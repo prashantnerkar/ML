{
 "cells": [
  {
   "cell_type": "code",
   "execution_count": 1,
   "id": "0837d3e7-f474-4b47-9d48-a3b3a728ad46",
   "metadata": {},
   "outputs": [
    {
     "name": "stdout",
     "output_type": "stream",
     "text": [
      "Hello World\n"
     ]
    }
   ],
   "source": [
    "print(\"Hello World\")"
   ]
  },
  {
   "cell_type": "code",
   "execution_count": 2,
   "id": "a07aba08-60ae-44c5-8fea-436d5bfb3b4c",
   "metadata": {},
   "outputs": [
    {
     "name": "stdout",
     "output_type": "stream",
     "text": [
      "30\n"
     ]
    }
   ],
   "source": [
    "a = 10\n",
    "b = 20\n",
    "print (a+b)"
   ]
  },
  {
   "cell_type": "markdown",
   "id": "c9dcb8fd-9f9d-4998-a2d4-d9a1f30f818e",
   "metadata": {},
   "source": [
    "a = 10\n",
    "b = 20\n",
    "print (a+b)"
   ]
  },
  {
   "cell_type": "markdown",
   "id": "e05d1359-4647-4cf2-8f63-5cb9cc90cea1",
   "metadata": {},
   "source": [
    "a = 10\n",
    "b = 20\n",
    "print (a+b)"
   ]
  },
  {
   "cell_type": "markdown",
   "id": "6a58e4a2-c4b1-4709-8801-0255083019a2",
   "metadata": {},
   "source": [
    "a = 10\n",
    "b = 20\n",
    "print (a+b)"
   ]
  },
  {
   "cell_type": "markdown",
   "id": "88cf8307-e87f-428d-b69f-970ffd623cde",
   "metadata": {},
   "source": [
    "python3 --version"
   ]
  },
  {
   "cell_type": "code",
   "execution_count": 1,
   "id": "e2d3e54c-f3ea-4685-8f28-c0c908d2134f",
   "metadata": {},
   "outputs": [
    {
     "ename": "ModuleNotFoundError",
     "evalue": "No module named 'sklearn'",
     "output_type": "error",
     "traceback": [
      "\u001b[0;31m---------------------------------------------------------------------------\u001b[0m",
      "\u001b[0;31mModuleNotFoundError\u001b[0m                       Traceback (most recent call last)",
      "Cell \u001b[0;32mIn[1], line 2\u001b[0m\n\u001b[1;32m      1\u001b[0m \u001b[38;5;28;01mimport\u001b[39;00m \u001b[38;5;21;01mnumpy\u001b[39;00m \u001b[38;5;28;01mas\u001b[39;00m \u001b[38;5;21;01mnp\u001b[39;00m\n\u001b[0;32m----> 2\u001b[0m \u001b[38;5;28;01mfrom\u001b[39;00m \u001b[38;5;21;01msklearn\u001b[39;00m \u001b[38;5;28;01mimport\u001b[39;00m preprocessing\n\u001b[1;32m      3\u001b[0m \u001b[38;5;66;03m#We imported a couple of packages. Let's create some sample data and add the line to this file:\u001b[39;00m\n\u001b[1;32m      4\u001b[0m input_data \u001b[38;5;241m=\u001b[39m np\u001b[38;5;241m.\u001b[39marray([[\u001b[38;5;241m3\u001b[39m, \u001b[38;5;241m-\u001b[39m\u001b[38;5;241m1.5\u001b[39m, \u001b[38;5;241m3\u001b[39m, \u001b[38;5;241m-\u001b[39m\u001b[38;5;241m6.4\u001b[39m], [\u001b[38;5;241m0\u001b[39m, \u001b[38;5;241m3\u001b[39m, \u001b[38;5;241m-\u001b[39m\u001b[38;5;241m1.3\u001b[39m, \u001b[38;5;241m4.1\u001b[39m], [\u001b[38;5;241m1\u001b[39m, \u001b[38;5;241m2.3\u001b[39m, \u001b[38;5;241m-\u001b[39m\u001b[38;5;241m2.9\u001b[39m, \u001b[38;5;241m-\u001b[39m \u001b[38;5;241m4.3\u001b[39m]])\n",
      "\u001b[0;31mModuleNotFoundError\u001b[0m: No module named 'sklearn'"
     ]
    }
   ],
   "source": [
    "import numpy as np\n",
    "from sklearn import preprocessing\n",
    "#We imported a couple of packages. Let's create some sample data and add the line to this file:\n",
    "input_data = np.array([[3, -1.5, 3, -6.4], [0, 3, -1.3, 4.1], [1, 2.3, -2.9, - 4.3]])"
   ]
  },
  {
   "cell_type": "code",
   "execution_count": 2,
   "id": "ad9f2009-98d2-4edf-bb71-2c71d24118eb",
   "metadata": {},
   "outputs": [
    {
     "name": "stdout",
     "output_type": "stream",
     "text": [
      "Retrieving notices: ...working... done\n",
      "Collecting package metadata (current_repodata.json): done\n",
      "Solving environment: done\n",
      "\n",
      "## Package Plan ##\n",
      "\n",
      "  environment location: /Users/prashantnerkar/opt/anaconda3/envs/automation\n",
      "\n",
      "  added / updated specs:\n",
      "    - scikit-learn\n",
      "\n",
      "\n",
      "The following packages will be downloaded:\n",
      "\n",
      "    package                    |            build\n",
      "    ---------------------------|-----------------\n",
      "    certifi-2022.12.7          |  py310hecd8cb5_0         151 KB\n",
      "    joblib-1.1.1               |  py310hecd8cb5_0         387 KB\n",
      "    libgfortran-5.0.0          |11_3_0_hecd8cb5_28         142 KB\n",
      "    libgfortran5-11.3.0        |      h9dfd629_28         1.4 MB\n",
      "    scikit-learn-1.1.3         |  py310he9d5cce_0         6.6 MB\n",
      "    scipy-1.9.3                |  py310h09290a1_0        20.6 MB\n",
      "    ------------------------------------------------------------\n",
      "                                           Total:        29.3 MB\n",
      "\n",
      "The following NEW packages will be INSTALLED:\n",
      "\n",
      "  fftw               pkgs/main/osx-64::fftw-3.3.9-h9ed2024_1 \n",
      "  joblib             pkgs/main/osx-64::joblib-1.1.1-py310hecd8cb5_0 \n",
      "  libgfortran        pkgs/main/osx-64::libgfortran-5.0.0-11_3_0_hecd8cb5_28 \n",
      "  libgfortran5       pkgs/main/osx-64::libgfortran5-11.3.0-h9dfd629_28 \n",
      "  llvm-openmp        pkgs/main/osx-64::llvm-openmp-14.0.6-h0dcd299_0 \n",
      "  scikit-learn       pkgs/main/osx-64::scikit-learn-1.1.3-py310he9d5cce_0 \n",
      "  scipy              pkgs/main/osx-64::scipy-1.9.3-py310h09290a1_0 \n",
      "  threadpoolctl      pkgs/main/noarch::threadpoolctl-2.2.0-pyh0d69192_0 \n",
      "\n",
      "The following packages will be SUPERSEDED by a higher-priority channel:\n",
      "\n",
      "  ca-certificates    conda-forge::ca-certificates-2022.12.~ --> pkgs/main::ca-certificates-2022.10.11-hecd8cb5_0 \n",
      "  certifi            conda-forge/noarch::certifi-2022.12.7~ --> pkgs/main/osx-64::certifi-2022.12.7-py310hecd8cb5_0 \n",
      "  openssl            conda-forge::openssl-1.1.1s-hfd90126_1 --> pkgs/main::openssl-1.1.1s-hca72f7f_0 \n",
      "\n",
      "\n",
      "\n",
      "Downloading and Extracting Packages\n",
      "scikit-learn-1.1.3   | 6.6 MB    |                                       |   0% \n",
      "libgfortran5-11.3.0  | 1.4 MB    |                                       |   0% \u001b[A\n",
      "\n",
      "scipy-1.9.3          | 20.6 MB   |                                       |   0% \u001b[A\u001b[A\n",
      "\n",
      "\n",
      "joblib-1.1.1         | 387 KB    |                                       |   0% \u001b[A\u001b[A\u001b[A\n",
      "\n",
      "\n",
      "\n",
      "libgfortran-5.0.0    | 142 KB    |                                       |   0% \u001b[A\u001b[A\u001b[A\u001b[A\n",
      "\n",
      "\n",
      "\n",
      "\n",
      "scikit-learn-1.1.3   | 6.6 MB    |                                       |   0% \u001b[A\u001b[A\u001b[A\u001b[A\u001b[A\n",
      "\n",
      "scipy-1.9.3          | 20.6 MB   |                                       |   0% \u001b[A\u001b[A\n",
      "libgfortran5-11.3.0  | 1.4 MB    | 4                                     |   1% \u001b[A\n",
      "\n",
      "\n",
      "joblib-1.1.1         | 387 KB    | #############7                        |  37% \u001b[A\u001b[A\u001b[A\n",
      "\n",
      "\n",
      "\n",
      "\n",
      "scikit-learn-1.1.3   | 6.6 MB    | #########3                            |  25% \u001b[A\u001b[A\u001b[A\u001b[A\u001b[A\n",
      "\n",
      "scipy-1.9.3          | 20.6 MB   | ##8                                   |   8% \u001b[A\u001b[A\n",
      "\n",
      "\n",
      "\n",
      "libgfortran-5.0.0    | 142 KB    | ##################################### | 100% \u001b[A\u001b[A\u001b[A\u001b[A\n",
      "\n",
      "\n",
      "\n",
      "libgfortran-5.0.0    | 142 KB    | ##################################### | 100% \u001b[A\u001b[A\u001b[A\u001b[A\n",
      "\n",
      "scikit-learn-1.1.3   | 6.6 MB    | ###############2                      |  41% \u001b[A\u001b[A\n",
      "\n",
      "\n",
      "joblib-1.1.1         | 387 KB    | ##################################### | 100% \u001b[A\u001b[A\u001b[A\n",
      "\n",
      "\n",
      "joblib-1.1.1         | 387 KB    | ##################################### | 100% \u001b[A\u001b[A\u001b[A\n",
      "\n",
      "\n",
      "\n",
      "\n",
      "certifi-2022.12.7    | 151 KB    | ##################################### | 100% \u001b[A\u001b[A\u001b[A\u001b[A\u001b[A\n",
      "\n",
      "\n",
      "\n",
      "\n",
      "certifi-2022.12.7    | 151 KB    | ##################################### | 100% \u001b[A\u001b[A\u001b[A\u001b[A\u001b[A\n",
      "\n",
      "scikit-learn-1.1.3   | 6.6 MB    | ###########################3          |  74% \u001b[A\u001b[A\n",
      "libgfortran5-11.3.0  | 1.4 MB    | ##################################### | 100% \u001b[A\n",
      "\n",
      "scikit-learn-1.1.3   | 6.6 MB    | ###################################1  |  95% \u001b[A\u001b[A\n",
      "libgfortran5-11.3.0  | 1.4 MB    | ##################################### | 100% \u001b[A\n",
      "\n",
      "scikit-learn-1.1.3   | 6.6 MB    | ##################################### | 100% \u001b[A\u001b[A\n",
      "\n",
      "scipy-1.9.3          | 20.6 MB   | ##############################6       |  83% \u001b[A\u001b[A\n",
      "\n",
      "scipy-1.9.3          | 20.6 MB   | ##################################### | 100% \u001b[A\u001b[A\n",
      "\n",
      "                                                                                \u001b[A\u001b[A\n",
      "                                                                                \u001b[A\n",
      "\n",
      "                                                                                \u001b[A\u001b[A\n",
      "\n",
      "\n",
      "                                                                                \u001b[A\u001b[A\u001b[A\n",
      "\n",
      "\n",
      "\n",
      "                                                                                \u001b[A\u001b[A\u001b[A\u001b[A\n",
      "\n",
      "\n",
      "\n",
      "\n",
      "                                                                                \u001b[A\u001b[A\u001b[A\u001b[A\u001b[A\n",
      "Preparing transaction: done\n",
      "Verifying transaction: done\n",
      "Executing transaction: / \n",
      "\n",
      "    Installed package of scikit-learn can be accelerated using scikit-learn-intelex.\n",
      "    More details are available here: https://intel.github.io/scikit-learn-intelex\n",
      "\n",
      "    For example:\n",
      "\n",
      "        $ conda install scikit-learn-intelex\n",
      "        $ python -m sklearnex my_application.py\n",
      "\n",
      "    \n",
      "\n",
      "done\n",
      "\n",
      "Note: you may need to restart the kernel to use updated packages.\n"
     ]
    }
   ],
   "source": [
    "conda install scikit-learn"
   ]
  },
  {
   "cell_type": "code",
   "execution_count": 3,
   "id": "ec4b8f61-7ffe-4fe4-8204-b9f1bc2fdfae",
   "metadata": {},
   "outputs": [],
   "source": [
    "import numpy as np\n",
    "from sklearn import preprocessing\n",
    "#We imported a couple of packages. Let's create some sample data and add the line to this file:\n",
    "input_data = np.array([[3, -1.5, 3, -6.4], [0, 3, -1.3, 4.1], [1, 2.3, -2.9, - 4.3]])"
   ]
  },
  {
   "cell_type": "code",
   "execution_count": 5,
   "id": "761aa6f4-ee93-4513-bf06-d8eb57efaa68",
   "metadata": {},
   "outputs": [
    {
     "name": "stdout",
     "output_type": "stream",
     "text": [
      "\n",
      "Mean = [ 5.55111512e-17 -3.70074342e-17  0.00000000e+00 -1.85037171e-17]\n",
      "Std deviation = [1. 1. 1. 1.]\n"
     ]
    }
   ],
   "source": [
    "data_standardized = preprocessing.scale(input_data)\n",
    "print (\"\\nMean =\", data_standardized.mean(axis=0))\n",
    "print (\"Std deviation =\", data_standardized.std(axis=0))"
   ]
  },
  {
   "cell_type": "code",
   "execution_count": 6,
   "id": "89e27416-0724-4773-913f-92f93a9f20ca",
   "metadata": {},
   "outputs": [
    {
     "name": "stdout",
     "output_type": "stream",
     "text": [
      "\n",
      "Min max scaled data = [[1.         0.         1.         0.        ]\n",
      " [0.         1.         0.27118644 1.        ]\n",
      " [0.33333333 0.84444444 0.         0.2       ]]\n"
     ]
    }
   ],
   "source": [
    "data_scaler = preprocessing.MinMaxScaler(feature_range=(0, 1))\n",
    "data_scaled = data_scaler.fit_transform(input_data)\n",
    "print (\"\\nMin max scaled data =\", data_scaled)"
   ]
  },
  {
   "cell_type": "code",
   "execution_count": 7,
   "id": "8208dc71-c604-4e93-b7c5-6d011eae4f66",
   "metadata": {},
   "outputs": [
    {
     "name": "stdout",
     "output_type": "stream",
     "text": [
      "\n",
      "L1 normalized data = [[ 0.21582734 -0.10791367  0.21582734 -0.46043165]\n",
      " [ 0.          0.35714286 -0.1547619   0.48809524]\n",
      " [ 0.0952381   0.21904762 -0.27619048 -0.40952381]]\n"
     ]
    }
   ],
   "source": [
    "data_normalized = preprocessing.normalize(input_data, norm='l1')\n",
    "print (\"\\nL1 normalized data =\", data_normalized)"
   ]
  },
  {
   "cell_type": "code",
   "execution_count": 9,
   "id": "6a1e5a61-1dd2-4f06-a017-30b274cd8bf0",
   "metadata": {},
   "outputs": [
    {
     "name": "stdout",
     "output_type": "stream",
     "text": [
      "\n",
      "Binarized data = [[1. 0. 1. 0.]\n",
      " [0. 1. 0. 1.]\n",
      " [0. 1. 0. 0.]]\n"
     ]
    }
   ],
   "source": [
    "data_binarized = preprocessing.Binarizer(threshold=1.4).transform(input_data)\n",
    "print (\"\\nBinarized data =\", data_binarized)"
   ]
  },
  {
   "cell_type": "code",
   "execution_count": 10,
   "id": "52c2d768-1a94-46e3-9afa-854b3468fa02",
   "metadata": {},
   "outputs": [
    {
     "name": "stdout",
     "output_type": "stream",
     "text": [
      "\n",
      "Encoded vector = [[0. 0. 1. 0. 1. 0. 0. 0. 1. 1. 0.]]\n"
     ]
    }
   ],
   "source": [
    "encoder = preprocessing.OneHotEncoder()\n",
    "encoder.fit([[0, 2, 1, 12], [1, 3, 5, 3], [2, 3, 2, 12], [1, 2, 4, 3]])\n",
    "encoded_vector = encoder.transform([[2, 3, 5, 3]]).toarray()\n",
    "print (\"\\nEncoded vector =\", encoded_vector)"
   ]
  },
  {
   "cell_type": "code",
   "execution_count": null,
   "id": "aa3fcbc4-eb90-4257-9f6c-ba64644265aa",
   "metadata": {},
   "outputs": [],
   "source": []
  }
 ],
 "metadata": {
  "kernelspec": {
   "display_name": "Python 3 (ipykernel)",
   "language": "python",
   "name": "python3"
  },
  "language_info": {
   "codemirror_mode": {
    "name": "ipython",
    "version": 3
   },
   "file_extension": ".py",
   "mimetype": "text/x-python",
   "name": "python",
   "nbconvert_exporter": "python",
   "pygments_lexer": "ipython3",
   "version": "3.10.8"
  }
 },
 "nbformat": 4,
 "nbformat_minor": 5
}
