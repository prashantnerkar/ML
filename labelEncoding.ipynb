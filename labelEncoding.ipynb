{
 "cells": [
  {
   "cell_type": "code",
   "execution_count": 1,
   "id": "92a7822e-8111-4a0e-8f20-1f567a570912",
   "metadata": {},
   "outputs": [
    {
     "name": "stdout",
     "output_type": "stream",
     "text": [
      "Class mapping:\n",
      "bmw --> 0\n",
      "ford --> 1\n",
      "suzuki --> 2\n",
      "toyota --> 3\n"
     ]
    }
   ],
   "source": [
    "from sklearn import preprocessing\n",
    "label_encoder = preprocessing.LabelEncoder()\n",
    "input_classes = ['suzuki', 'ford', 'suzuki', 'toyota', 'ford', 'bmw']\n",
    "label_encoder.fit(input_classes)\n",
    "print (\"Class mapping:\")\n",
    "for i, item in enumerate(label_encoder.classes_):\n",
    "      print (item, '-->', i)"
   ]
  },
  {
   "cell_type": "code",
   "execution_count": 2,
   "id": "f57df72d-c23d-436f-b3ef-242d65117aae",
   "metadata": {},
   "outputs": [
    {
     "name": "stdout",
     "output_type": "stream",
     "text": [
      "\n",
      "Labels = ['toyota', 'ford', 'suzuki']\n",
      "Encoded labels = [3, 1, 2]\n"
     ]
    }
   ],
   "source": [
    "labels = ['toyota', 'ford', 'suzuki']\n",
    "encoded_labels = label_encoder.transform(labels)\n",
    "print (\"\\nLabels =\", labels)\n",
    "print (\"Encoded labels =\", list(encoded_labels))"
   ]
  },
  {
   "cell_type": "code",
   "execution_count": 3,
   "id": "cc5cefaf-f5bd-4f1b-9eca-8442b5269dda",
   "metadata": {},
   "outputs": [
    {
     "name": "stdout",
     "output_type": "stream",
     "text": [
      "\n",
      "Encoded labels = [3, 2, 0, 2, 1]\n",
      "Decoded labels = ['toyota', 'suzuki', 'bmw', 'suzuki', 'ford']\n"
     ]
    }
   ],
   "source": [
    "encoded_labels = [3, 2, 0, 2, 1]\n",
    "decoded_labels = label_encoder.inverse_transform(encoded_labels)\n",
    "print (\"\\nEncoded labels =\", encoded_labels)\n",
    "print (\"Decoded labels =\", list(decoded_labels))"
   ]
  },
  {
   "cell_type": "code",
   "execution_count": null,
   "id": "1138f66f-6408-4622-866a-c11c19653b78",
   "metadata": {},
   "outputs": [],
   "source": []
  }
 ],
 "metadata": {
  "kernelspec": {
   "display_name": "Python 3 (ipykernel)",
   "language": "python",
   "name": "python3"
  },
  "language_info": {
   "codemirror_mode": {
    "name": "ipython",
    "version": 3
   },
   "file_extension": ".py",
   "mimetype": "text/x-python",
   "name": "python",
   "nbconvert_exporter": "python",
   "pygments_lexer": "ipython3",
   "version": "3.10.8"
  }
 },
 "nbformat": 4,
 "nbformat_minor": 5
}
