{
 "cells": [
  {
   "cell_type": "code",
   "execution_count": 1,
   "id": "18befc13-6d2a-4c9d-b8dd-5d05bd8cc6ab",
   "metadata": {},
   "outputs": [],
   "source": [
    "X = [0, 6, 11, 14, 22]"
   ]
  },
  {
   "cell_type": "code",
   "execution_count": 2,
   "id": "3155bb04-12da-4e99-b214-09592723f592",
   "metadata": {},
   "outputs": [],
   "source": [
    "Y = [1, 7, 12, 15, 21]"
   ]
  },
  {
   "cell_type": "code",
   "execution_count": 3,
   "id": "286c478c-fd0f-457e-a928-d35cc6477d38",
   "metadata": {},
   "outputs": [
    {
     "ename": "SyntaxError",
     "evalue": "incomplete input (1990091583.py, line 1)",
     "output_type": "error",
     "traceback": [
      "\u001b[0;36m  Cell \u001b[0;32mIn[3], line 1\u001b[0;36m\u001b[0m\n\u001b[0;31m    def best_fit(X, Y):\u001b[0m\n\u001b[0m                       ^\u001b[0m\n\u001b[0;31mSyntaxError\u001b[0m\u001b[0;31m:\u001b[0m incomplete input\n"
     ]
    }
   ],
   "source": [
    "def best_fit(X, Y):"
   ]
  },
  {
   "cell_type": "code",
   "execution_count": 4,
   "id": "fa94d60e-0028-4e30-ab66-ab941ebee5b2",
   "metadata": {},
   "outputs": [
    {
     "ename": "SyntaxError",
     "evalue": "expected ':' (3595758817.py, line 1)",
     "output_type": "error",
     "traceback": [
      "\u001b[0;36m  Cell \u001b[0;32mIn[4], line 1\u001b[0;36m\u001b[0m\n\u001b[0;31m    def best_fit(X, Y)\u001b[0m\n\u001b[0m                      ^\u001b[0m\n\u001b[0;31mSyntaxError\u001b[0m\u001b[0;31m:\u001b[0m expected ':'\n"
     ]
    }
   ],
   "source": [
    "def best_fit(X, Y)"
   ]
  },
  {
   "cell_type": "code",
   "execution_count": 5,
   "id": "c8e24b39-41ba-4e1e-be09-095c1b5c1b0e",
   "metadata": {},
   "outputs": [],
   "source": [
    "xbar = sum(X)/len(X)"
   ]
  },
  {
   "cell_type": "code",
   "execution_count": 6,
   "id": "1da16bf1-1f25-4b5f-b01d-60bfc5d240f3",
   "metadata": {},
   "outputs": [
    {
     "data": {
      "text/plain": [
       "10.6"
      ]
     },
     "execution_count": 6,
     "metadata": {},
     "output_type": "execute_result"
    }
   ],
   "source": [
    "xbar"
   ]
  },
  {
   "cell_type": "code",
   "execution_count": 7,
   "id": "df1ef8c6-d795-44c7-a3f5-4b13d785109b",
   "metadata": {},
   "outputs": [
    {
     "ename": "SyntaxError",
     "evalue": "invalid decimal literal (2318614120.py, line 19)",
     "output_type": "error",
     "traceback": [
      "\u001b[0;36m  Cell \u001b[0;32mIn[7], line 19\u001b[0;36m\u001b[0m\n\u001b[0;31m    y = 1.48 + 0.92x\u001b[0m\n\u001b[0m                  ^\u001b[0m\n\u001b[0;31mSyntaxError\u001b[0m\u001b[0;31m:\u001b[0m invalid decimal literal\n"
     ]
    }
   ],
   "source": [
    "# solve for a and b\n",
    "def best_fit(X, Y):\n",
    "    xbar = sum(X)/len(X)\n",
    "    ybar = sum(Y)/len(Y)\n",
    "    n = len(X) # or len(Y)\n",
    "numer = sum([xi*yi for xi,yi in zip(X, Y)]) - n * xbar * ybar denum = sum([xi**2 for xi in X]) - n * xbar**2\n",
    "    b = numer / denum\n",
    "    a = ybar - b * xbar\n",
    "    print('best fit line:\\ny = {:.2f} + {:.2f}x'.format(a, b))\n",
    "    return a, b\n",
    "# solution\n",
    "a, b = best_fit(X, Y)\n",
    "#best fit line:\n",
    "#y = 0.80 + 0.92x\n",
    "# plot points and fit line import matplotlib.pyplot as plt plt.scatter(X, Y)\n",
    "yfit = [a + b * xi for xi in X] plt.plot(X, yfit)\n",
    "plt.show()\n",
    "best fit line:\n",
    "y = 1.48 + 0.92x"
   ]
  },
  {
   "cell_type": "code",
   "execution_count": 8,
   "id": "041f3dd7-eb40-4068-99fb-29965d06300a",
   "metadata": {},
   "outputs": [
    {
     "ename": "SyntaxError",
     "evalue": "invalid syntax (1689487193.py, line 6)",
     "output_type": "error",
     "traceback": [
      "\u001b[0;36m  Cell \u001b[0;32mIn[8], line 6\u001b[0;36m\u001b[0m\n\u001b[0;31m    numer = sum([xi*yi for xi,yi in zip(X, Y)]) - n * xbar * ybar denum = sum([xi**2 for xi in X]) - n * xbar**2\u001b[0m\n\u001b[0m                                                                  ^\u001b[0m\n\u001b[0;31mSyntaxError\u001b[0m\u001b[0;31m:\u001b[0m invalid syntax\n"
     ]
    }
   ],
   "source": [
    "# solve for a and b\n",
    "def best_fit(X, Y):\n",
    "    xbar = sum(X)/len(X)\n",
    "    ybar = sum(Y)/len(Y)\n",
    "    n = len(X) # or len(Y)\n",
    "numer = sum([xi*yi for xi,yi in zip(X, Y)]) - n * xbar * ybar denum = sum([xi**2 for xi in X]) - n * xbar**2\n",
    "    b = numer / denum\n",
    "    a = ybar - b * xbar\n",
    "    print('best fit line:\\ny = {:.2f} + {:.2f}x'.format(a, b))\n",
    "    return a, b\n",
    "# solution\n",
    "a, b = best_fit(X, Y)\n",
    "#best fit line:\n",
    "#y = 0.80 + 0.92x\n",
    "# plot points and fit line import matplotlib.pyplot as plt plt.scatter(X, Y)\n",
    "yfit = [a + b * xi for xi in X] plt.plot(X, yfit)\n",
    "plt.show()\n",
    "best fit line:\n"
   ]
  },
  {
   "cell_type": "code",
   "execution_count": 9,
   "id": "e1937ca7-043e-4a7c-9886-cb057f62bb26",
   "metadata": {},
   "outputs": [
    {
     "name": "stdout",
     "output_type": "stream",
     "text": [
      "best fit line:\n",
      "y = 1.48 + 0.92x\n"
     ]
    },
    {
     "ename": "NameError",
     "evalue": "name 'plt' is not defined",
     "output_type": "error",
     "traceback": [
      "\u001b[0;31m---------------------------------------------------------------------------\u001b[0m",
      "\u001b[0;31mNameError\u001b[0m                                 Traceback (most recent call last)",
      "Cell \u001b[0;32mIn[9], line 18\u001b[0m\n\u001b[1;32m     14\u001b[0m \u001b[38;5;66;03m#best fit line:\u001b[39;00m\n\u001b[1;32m     15\u001b[0m \u001b[38;5;66;03m#y = 0.80 + 0.92x\u001b[39;00m\n\u001b[1;32m     16\u001b[0m \u001b[38;5;66;03m# plot points and fit line import matplotlib.pyplot as plt plt.scatter(X, Y)\u001b[39;00m\n\u001b[1;32m     17\u001b[0m yfit \u001b[38;5;241m=\u001b[39m [a \u001b[38;5;241m+\u001b[39m b \u001b[38;5;241m*\u001b[39m xi \u001b[38;5;28;01mfor\u001b[39;00m xi \u001b[38;5;129;01min\u001b[39;00m X]\n\u001b[0;32m---> 18\u001b[0m \u001b[43mplt\u001b[49m\u001b[38;5;241m.\u001b[39mplot(X, yfit)\n\u001b[1;32m     19\u001b[0m plt\u001b[38;5;241m.\u001b[39mshow()\n",
      "\u001b[0;31mNameError\u001b[0m: name 'plt' is not defined"
     ]
    }
   ],
   "source": [
    "# solve for a and b\n",
    "def best_fit(X, Y):\n",
    "    xbar = sum(X)/len(X)\n",
    "    ybar = sum(Y)/len(Y)\n",
    "    n = len(X) # or len(Y)\n",
    "    numer = sum([xi*yi for xi,yi in zip(X, Y)]) - n * xbar * ybar\n",
    "    denum = sum([xi**2 for xi in X]) - n * xbar**2\n",
    "    b = numer / denum\n",
    "    a = ybar - b * xbar\n",
    "    print('best fit line:\\ny = {:.2f} + {:.2f}x'.format(a, b))\n",
    "    return a, b\n",
    "# solution\n",
    "a, b = best_fit(X, Y)\n",
    "#best fit line:\n",
    "#y = 0.80 + 0.92x\n",
    "# plot points and fit line import matplotlib.pyplot as plt plt.scatter(X, Y)\n",
    "yfit = [a + b * xi for xi in X]\n",
    "plt.plot(X, yfit)\n",
    "plt.show()\n",
    "#best fit line:\n",
    "#y = 1.48 + 0.92x"
   ]
  },
  {
   "cell_type": "code",
   "execution_count": 10,
   "id": "559cfcd6-cc1e-499f-a67e-84b161944906",
   "metadata": {},
   "outputs": [
    {
     "name": "stdout",
     "output_type": "stream",
     "text": [
      "best fit line:\n",
      "y = 1.48 + 0.92x\n"
     ]
    },
    {
     "ename": "NameError",
     "evalue": "name 'plt' is not defined",
     "output_type": "error",
     "traceback": [
      "\u001b[0;31m---------------------------------------------------------------------------\u001b[0m",
      "\u001b[0;31mNameError\u001b[0m                                 Traceback (most recent call last)",
      "Cell \u001b[0;32mIn[10], line 18\u001b[0m\n\u001b[1;32m     14\u001b[0m \u001b[38;5;66;03m#best fit line:\u001b[39;00m\n\u001b[1;32m     15\u001b[0m \u001b[38;5;66;03m#y = 0.80 + 0.92x\u001b[39;00m\n\u001b[1;32m     16\u001b[0m \u001b[38;5;66;03m# plot points and fit line import matplotlib.pyplot as plt plt.scatter(X, Y)\u001b[39;00m\n\u001b[1;32m     17\u001b[0m yfit \u001b[38;5;241m=\u001b[39m [a \u001b[38;5;241m+\u001b[39m b \u001b[38;5;241m*\u001b[39m xi \u001b[38;5;28;01mfor\u001b[39;00m xi \u001b[38;5;129;01min\u001b[39;00m X]\n\u001b[0;32m---> 18\u001b[0m \u001b[43mplt\u001b[49m\u001b[38;5;241m.\u001b[39mplot(X, yfit)\n\u001b[1;32m     19\u001b[0m plt\u001b[38;5;241m.\u001b[39mshow()\n",
      "\u001b[0;31mNameError\u001b[0m: name 'plt' is not defined"
     ]
    }
   ],
   "source": [
    "# solve for a and b\n",
    "def best_fit(X, Y):\n",
    "    xbar = sum(X)/len(X)\n",
    "    ybar = sum(Y)/len(Y)\n",
    "    n = len(X) # or len(Y)\n",
    "    numer = sum([xi*yi for xi,yi in zip(X, Y)]) - n * xbar * ybar\n",
    "    denum = sum([xi**2 for xi in X]) - n * xbar**2\n",
    "    b = numer / denum\n",
    "    a = ybar - b * xbar\n",
    "    print('best fit line:\\ny = {:.2f} + {:.2f}x'.format(a, b))\n",
    "    return a, b\n",
    "# solution\n",
    "a, b = best_fit(X, Y)\n",
    "#best fit line:\n",
    "#y = 0.80 + 0.92x\n",
    "# plot points and fit line import matplotlib.pyplot as plt plt.scatter(X, Y)\n",
    "yfit = [a + b * xi for xi in X]\n",
    "plt.plot(X, yfit)\n",
    "plt.show()\n",
    "#best fit line:\n",
    "#y = 1.48 + 0.92x"
   ]
  },
  {
   "cell_type": "code",
   "execution_count": 11,
   "id": "aadfb4d6-b6ae-4723-9119-07d61f1c46fa",
   "metadata": {},
   "outputs": [
    {
     "ename": "IndentationError",
     "evalue": "unexpected indent (2913472032.py, line 7)",
     "output_type": "error",
     "traceback": [
      "\u001b[0;36m  Cell \u001b[0;32mIn[11], line 7\u001b[0;36m\u001b[0m\n\u001b[0;31m    X = [0, 6, 11, 14, 22]\u001b[0m\n\u001b[0m    ^\u001b[0m\n\u001b[0;31mIndentationError\u001b[0m\u001b[0;31m:\u001b[0m unexpected indent\n"
     ]
    }
   ],
   "source": [
    "import matplotlib.pyplot as plt\n",
    "plt.scatter(X, Y)\n",
    "yfit = [a + b * xi for xi in X]\n",
    "plt.plot(X, yfit)\n",
    "\n",
    "# sample points\n",
    " X = [0, 6, 11, 14, 22]\n",
    " Y = [1, 7, 12, 15, 21]\n",
    "\n",
    "# solve for a and b\n",
    "def best_fit(X, Y):\n",
    "    xbar = sum(X)/len(X)\n",
    "    ybar = sum(Y)/len(Y)\n",
    "    n = len(X) # or len(Y)\n",
    "    numer = sum([xi*yi for xi,yi in zip(X, Y)]) - n * xbar * ybar\n",
    "    denum = sum([xi**2 for xi in X]) - n * xbar**2\n",
    "    b = numer / denum\n",
    "    a = ybar - b * xbar\n",
    "    print('best fit line:\\ny = {:.2f} + {:.2f}x'.format(a, b))\n",
    "    return a, b\n",
    "# solution\n",
    "a, b = best_fit(X, Y)\n",
    "#best fit line:\n",
    "#y = 0.80 + 0.92x\n",
    "# plot points and fit line import matplotlib.pyplot as plt plt.scatter(X, Y)\n",
    "yfit = [a + b * xi for xi in X]\n",
    "plt.plot(X, yfit)\n",
    "plt.show()\n",
    "#best fit line:\n",
    "#y = 1.48 + 0.92x"
   ]
  },
  {
   "cell_type": "code",
   "execution_count": 14,
   "id": "a68245b0-9f6b-4df2-a930-1e9ffb3f9e96",
   "metadata": {},
   "outputs": [
    {
     "name": "stdout",
     "output_type": "stream",
     "text": [
      "best fit line:\n",
      "y = 1.48 + 0.92x\n"
     ]
    },
    {
     "data": {
      "image/png": "[encoded data removed]",
      "text/plain": [
       "<Figure size 640x480 with 1 Axes>"
      ]
     },
     "metadata": {},
     "output_type": "display_data"
    }
   ],
   "source": [
    "import matplotlib.pyplot as plt\n",
    "plt.scatter(X, Y)\n",
    "\n",
    "# sample points\n",
    "X = [0, 6, 11, 14, 22]\n",
    "Y = [1, 7, 12, 15, 21]\n",
    "\n",
    "# solve for a and b\n",
    "def best_fit(X, Y):\n",
    "    xbar = sum(X)/len(X)\n",
    "    ybar = sum(Y)/len(Y)\n",
    "    n = len(X) # or len(Y)\n",
    "    numer = sum([xi*yi for xi,yi in zip(X, Y)]) - n * xbar * ybar\n",
    "    denum = sum([xi**2 for xi in X]) - n * xbar**2\n",
    "    b = numer / denum\n",
    "    a = ybar - b * xbar\n",
    "    print('best fit line:\\ny = {:.2f} + {:.2f}x'.format(a, b))\n",
    "    return a, b\n",
    "\n",
    "# solution\n",
    "a, b = best_fit(X, Y)\n",
    "yfit = [a + b * xi for xi in X]\n",
    "plt.plot(X, yfit)\n",
    "plt.show()"
   ]
  },
  {
   "cell_type": "code",
   "execution_count": null,
   "id": "85666ced-138a-4d7b-b64b-77cd50d9eb3a",
   "metadata": {},
   "outputs": [],
   "source": []
  }
 ],
 "metadata": {
  "kernelspec": {
   "display_name": "Python 3 (ipykernel)",
   "language": "python",
   "name": "python3"
  },
  "language_info": {
   "codemirror_mode": {
    "name": "ipython",
    "version": 3
   },
   "file_extension": ".py",
   "mimetype": "text/x-python",
   "name": "python",
   "nbconvert_exporter": "python",
   "pygments_lexer": "ipython3",
   "version": "3.10.8"
  }
 },
 "nbformat": 4,
 "nbformat_minor": 5
}
